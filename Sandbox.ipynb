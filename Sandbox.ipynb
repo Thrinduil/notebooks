{
 "metadata": {
  "name": ""
 },
 "nbformat": 3,
 "nbformat_minor": 0,
 "worksheets": [
  {
   "cells": [
    {
     "cell_type": "markdown",
     "metadata": {},
     "source": [
      "This is a sandbox!"
     ]
    },
    {
     "cell_type": "code",
     "collapsed": false,
     "input": [
      "print \"hello world!\""
     ],
     "language": "python",
     "metadata": {},
     "outputs": [
      {
       "output_type": "stream",
       "stream": "stdout",
       "text": [
        "hello world!"
       ]
      }
     ],
     "prompt_number": 2
    },
    {
     "cell_type": "code",
     "collapsed": true,
     "input": [
      "%matplotlib inline\n",
      "import numpy as np\n",
      "import matplotlib.pyplot as plt"
     ],
     "language": "python",
     "metadata": {},
     "outputs": [],
     "prompt_number": 1
    },
    {
     "cell_type": "markdown",
     "metadata": {},
     "source": [
      "Read in the *already sorted* cross validation folds from file:"
     ]
    },
    {
     "cell_type": "code",
     "collapsed": false,
     "input": [
      "X1 = np.load(\"/home/freso388/nsc/disopred/myfeatures/X_val1.npy\")\n",
      "y1 = np.load(\"/home/freso388/nsc/disopred/myfeatures/y_val1.npy\")\n",
      "X2 = np.load(\"/home/freso388/nsc/disopred/myfeatures/X_val2.npy\")\n",
      "y2 = np.load(\"/home/freso388/nsc/disopred/myfeatures/y_val2.npy\")\n",
      "X3 = np.load(\"/home/freso388/nsc/disopred/myfeatures/X_val3.npy\")\n",
      "y3 = np.load(\"/home/freso388/nsc/disopred/myfeatures/y_val3.npy\")\n",
      "X4 = np.load(\"/home/freso388/nsc/disopred/myfeatures/X_val4.npy\")\n",
      "y4 = np.load(\"/home/freso388/nsc/disopred/myfeatures/y_val4.npy\")\n",
      "X5 = np.load(\"/home/freso388/nsc/disopred/myfeatures/X_val5.npy\")\n",
      "y5 = np.load(\"/home/freso388/nsc/disopred/myfeatures/y_val5.npy\")"
     ],
     "language": "python",
     "metadata": {},
     "outputs": [
      {
       "output_type": "stream",
       "stream": "stdout",
       "text": [
        "\n",
        "Caching the list of root modules, please wait!\n",
        "(This will only be done once - type '%rehashx' to reset cache!)\n",
        "\n"
       ]
      }
     ],
     "prompt_number": 2
    },
    {
     "cell_type": "markdown",
     "metadata": {},
     "source": [
      "**Scale** the features using built in function. The resulting feature matrix will have *mean 0* and *variance 1*."
     ]
    },
    {
     "cell_type": "code",
     "collapsed": false,
     "input": [
      "from sklearn import preprocessing\n",
      "X = preprocessing.scale(X)"
     ],
     "language": "python",
     "metadata": {},
     "outputs": [],
     "prompt_number": 3
    },
    {
     "cell_type": "code",
     "collapsed": false,
     "input": [
      "import matplotlib.pyplot as plt\n",
      "import numpy as np\n",
      "from sklearn.datasets import load_digits\n",
      "from sklearn.svm import SVC\n",
      "from sklearn.linear_model import SGDClassifier\n",
      "from sklearn.learning_curve import validation_curve\n",
      "\n",
      "digits = load_digits()\n",
      "X, y = digits.data, digits.target\n",
      "\n",
      "param_range = np.logspace(-49, 5, 11)\n",
      "train_scores, test_scores = validation_curve(\n",
      "    SGDClassifier(), X, y, param_name=\"alpha\", param_range=param_range,\n",
      "    cv=10, scoring=\"accuracy\", n_jobs=1)\n",
      "train_scores_mean = np.mean(train_scores, axis=1)\n",
      "train_scores_std = np.std(train_scores, axis=1)\n",
      "test_scores_mean = np.mean(test_scores, axis=1)\n",
      "test_scores_std = np.std(test_scores, axis=1)\n",
      "\n",
      "plt.title(\"Validation Curve with SGD\")\n",
      "plt.xlabel(\"alpha\")\n",
      "plt.ylabel(\"Score\")\n",
      "plt.ylim(0.0, 1.1)\n",
      "plt.semilogx(param_range, train_scores_mean, label=\"Training score\", color=\"r\")\n",
      "plt.fill_between(param_range, train_scores_mean - train_scores_std,\n",
      "                 train_scores_mean + train_scores_std, alpha=0.2, color=\"r\")\n",
      "plt.semilogx(param_range, test_scores_mean, label=\"Cross-validation score\",\n",
      "             color=\"g\")\n",
      "plt.fill_between(param_range, test_scores_mean - test_scores_std,\n",
      "                 test_scores_mean + test_scores_std, alpha=0.2, color=\"g\")\n",
      "plt.legend(loc=\"best\")\n",
      "plt.show()"
     ],
     "language": "python",
     "metadata": {},
     "outputs": [
      {
       "metadata": {},
       "output_type": "display_data",
       "png": "[encoded data removed]",
       "text": [
        "<matplotlib.figure.Figure at 0x7fc9331f9f10>"
       ]
      }
     ],
     "prompt_number": 19
    },
    {
     "cell_type": "code",
     "collapsed": false,
     "input": [],
     "language": "python",
     "metadata": {},
     "outputs": []
    }
   ],
   "metadata": {}
  }
 ]
}